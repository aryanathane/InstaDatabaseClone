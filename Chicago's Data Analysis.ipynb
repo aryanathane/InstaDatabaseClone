{
 "cells": [
  {
   "cell_type": "code",
   "execution_count": 1,
   "metadata": {},
   "outputs": [
    {
     "name": "stdout",
     "output_type": "stream",
     "text": [
      "Collecting ipython-sql\n",
      "  Downloading ipython_sql-0.5.0-py3-none-any.whl.metadata (17 kB)\n",
      "Collecting prettytable\n",
      "  Downloading prettytable-3.14.0-py3-none-any.whl.metadata (30 kB)\n",
      "Requirement already satisfied: ipython in c:\\users\\aryan\\appdata\\local\\programs\\python\\python313\\lib\\site-packages (from ipython-sql) (8.31.0)\n",
      "Collecting sqlalchemy>=2.0 (from ipython-sql)\n",
      "  Downloading SQLAlchemy-2.0.38-cp313-cp313-win_amd64.whl.metadata (9.9 kB)\n",
      "Collecting sqlparse (from ipython-sql)\n",
      "  Downloading sqlparse-0.5.3-py3-none-any.whl.metadata (3.9 kB)\n",
      "Requirement already satisfied: six in c:\\users\\aryan\\appdata\\local\\programs\\python\\python313\\lib\\site-packages (from ipython-sql) (1.17.0)\n",
      "Collecting ipython-genutils (from ipython-sql)\n",
      "  Downloading ipython_genutils-0.2.0-py2.py3-none-any.whl.metadata (755 bytes)\n",
      "Requirement already satisfied: wcwidth in c:\\users\\aryan\\appdata\\local\\programs\\python\\python313\\lib\\site-packages (from prettytable) (0.2.13)\n",
      "Collecting greenlet!=0.4.17 (from sqlalchemy>=2.0->ipython-sql)\n",
      "  Downloading greenlet-3.1.1-cp313-cp313-win_amd64.whl.metadata (3.9 kB)\n",
      "Collecting typing-extensions>=4.6.0 (from sqlalchemy>=2.0->ipython-sql)\n",
      "  Using cached typing_extensions-4.12.2-py3-none-any.whl.metadata (3.0 kB)\n",
      "Requirement already satisfied: colorama in c:\\users\\aryan\\appdata\\local\\programs\\python\\python313\\lib\\site-packages (from ipython->ipython-sql) (0.4.6)\n",
      "Requirement already satisfied: decorator in c:\\users\\aryan\\appdata\\local\\programs\\python\\python313\\lib\\site-packages (from ipython->ipython-sql) (5.1.1)\n",
      "Requirement already satisfied: jedi>=0.16 in c:\\users\\aryan\\appdata\\local\\programs\\python\\python313\\lib\\site-packages (from ipython->ipython-sql) (0.19.2)\n",
      "Requirement already satisfied: matplotlib-inline in c:\\users\\aryan\\appdata\\local\\programs\\python\\python313\\lib\\site-packages (from ipython->ipython-sql) (0.1.7)\n",
      "Requirement already satisfied: prompt_toolkit<3.1.0,>=3.0.41 in c:\\users\\aryan\\appdata\\local\\programs\\python\\python313\\lib\\site-packages (from ipython->ipython-sql) (3.0.48)\n",
      "Requirement already satisfied: pygments>=2.4.0 in c:\\users\\aryan\\appdata\\local\\programs\\python\\python313\\lib\\site-packages (from ipython->ipython-sql) (2.19.1)\n",
      "Requirement already satisfied: stack_data in c:\\users\\aryan\\appdata\\local\\programs\\python\\python313\\lib\\site-packages (from ipython->ipython-sql) (0.6.3)\n",
      "Requirement already satisfied: traitlets>=5.13.0 in c:\\users\\aryan\\appdata\\local\\programs\\python\\python313\\lib\\site-packages (from ipython->ipython-sql) (5.14.3)\n",
      "Requirement already satisfied: parso<0.9.0,>=0.8.4 in c:\\users\\aryan\\appdata\\local\\programs\\python\\python313\\lib\\site-packages (from jedi>=0.16->ipython->ipython-sql) (0.8.4)\n",
      "Requirement already satisfied: executing>=1.2.0 in c:\\users\\aryan\\appdata\\local\\programs\\python\\python313\\lib\\site-packages (from stack_data->ipython->ipython-sql) (2.1.0)\n",
      "Requirement already satisfied: asttokens>=2.1.0 in c:\\users\\aryan\\appdata\\local\\programs\\python\\python313\\lib\\site-packages (from stack_data->ipython->ipython-sql) (3.0.0)\n",
      "Requirement already satisfied: pure-eval in c:\\users\\aryan\\appdata\\local\\programs\\python\\python313\\lib\\site-packages (from stack_data->ipython->ipython-sql) (0.2.3)\n",
      "Downloading ipython_sql-0.5.0-py3-none-any.whl (20 kB)\n",
      "Downloading prettytable-3.14.0-py3-none-any.whl (31 kB)\n",
      "Downloading SQLAlchemy-2.0.38-cp313-cp313-win_amd64.whl (2.1 MB)\n",
      "   ---------------------------------------- 0.0/2.1 MB ? eta -:--:--\n",
      "   ----------------------------------- ---- 1.8/2.1 MB 8.9 MB/s eta 0:00:01\n",
      "   ---------------------------------------- 2.1/2.1 MB 7.4 MB/s eta 0:00:00\n",
      "Downloading ipython_genutils-0.2.0-py2.py3-none-any.whl (26 kB)\n",
      "Downloading sqlparse-0.5.3-py3-none-any.whl (44 kB)\n",
      "Downloading greenlet-3.1.1-cp313-cp313-win_amd64.whl (299 kB)\n",
      "Using cached typing_extensions-4.12.2-py3-none-any.whl (37 kB)\n",
      "Installing collected packages: ipython-genutils, typing-extensions, sqlparse, prettytable, greenlet, sqlalchemy, ipython-sql\n",
      "Successfully installed greenlet-3.1.1 ipython-genutils-0.2.0 ipython-sql-0.5.0 prettytable-3.14.0 sqlalchemy-2.0.38 sqlparse-0.5.3 typing-extensions-4.12.2\n"
     ]
    },
    {
     "name": "stderr",
     "output_type": "stream",
     "text": [
      "WARNING: Ignoring invalid distribution ~ip (C:\\Users\\ARYAN\\AppData\\Local\\Programs\\Python\\Python313\\Lib\\site-packages)\n",
      "WARNING: Ignoring invalid distribution ~ip (C:\\Users\\ARYAN\\AppData\\Local\\Programs\\Python\\Python313\\Lib\\site-packages)\n",
      "WARNING: Ignoring invalid distribution ~ip (C:\\Users\\ARYAN\\AppData\\Local\\Programs\\Python\\Python313\\Lib\\site-packages)\n",
      "\n",
      "[notice] A new release of pip is available: 24.3.1 -> 25.0.1\n",
      "[notice] To update, run: python.exe -m pip install --upgrade pip\n"
     ]
    }
   ],
   "source": [
    "!pip install ipython-sql prettytable\n",
    "\n",
    "import prettytable\n",
    "\n",
    "prettytable.DEFAULT = 'DEFAULT'"
   ]
  },
  {
   "cell_type": "code",
   "execution_count": 8,
   "metadata": {},
   "outputs": [],
   "source": [
    "import pandas as pd\n",
    "import sqlite3\n",
    "\n",
    "# Establish a connection to the SQLite database\n",
    "con = sqlite3.connect(\"FinalDB.db\")"
   ]
  },
  {
   "cell_type": "code",
   "execution_count": 9,
   "metadata": {},
   "outputs": [
    {
     "name": "stdout",
     "output_type": "stream",
     "text": [
      "The sql extension is already loaded. To reload it, use:\n",
      "  %reload_ext sql\n"
     ]
    }
   ],
   "source": [
    "%load_ext sql"
   ]
  },
  {
   "cell_type": "code",
   "execution_count": 11,
   "metadata": {},
   "outputs": [
    {
     "name": "stdout",
     "output_type": "stream",
     "text": [
      "Data successfully stored in the database!\n"
     ]
    }
   ],
   "source": [
    "# Load datasets into DataFrames\n",
    "census_data = pd.read_csv(\"ChicagoCensusData.csv\")\n",
    "public_schools_data = pd.read_csv(\"ChicagoPublicSchools.csv\")\n",
    "crime_data = pd.read_csv(\"ChicagoCrimeData.csv\")\n",
    "\n",
    "# Save DataFrames to database tables\n",
    "census_data.to_sql(\"CENSUS_DATA\", con, if_exists=\"replace\", index=False)\n",
    "public_schools_data.to_sql(\"CHICAGO_PUBLIC_SCHOOLS\", con, if_exists=\"replace\", index=False)\n",
    "crime_data.to_sql(\"CHICAGO_CRIME_DATA\", con, if_exists=\"replace\", index=False)\n",
    "\n",
    "print(\"Data successfully stored in the database!\")\n"
   ]
  },
  {
   "cell_type": "code",
   "execution_count": 12,
   "metadata": {},
   "outputs": [],
   "source": [
    "%sql sqlite:///FinalDB.db"
   ]
  },
  {
   "cell_type": "code",
   "execution_count": 13,
   "metadata": {},
   "outputs": [
    {
     "name": "stdout",
     "output_type": "stream",
     "text": [
      "Total number of crimes recorded:\n",
      "   total_crimes\n",
      "0           533\n"
     ]
    }
   ],
   "source": [
    "# Problem 1: Find the total number of crimes recorded in the CRIME table\n",
    "query = \"SELECT COUNT(*) AS total_crimes FROM CHICAGO_CRIME_DATA;\"\n",
    "result = pd.read_sql_query(query, con)\n",
    "print(\"Total number of crimes recorded:\")\n",
    "print(result)"
   ]
  },
  {
   "cell_type": "code",
   "execution_count": 14,
   "metadata": {},
   "outputs": [
    {
     "name": "stdout",
     "output_type": "stream",
     "text": [
      "  COMMUNITY_AREA_NAME  COMMUNITY_AREA_NUMBER\n",
      "0  West Garfield Park                   26.0\n",
      "1      South Lawndale                   30.0\n",
      "2         Fuller Park                   37.0\n",
      "3           Riverdale                   54.0\n"
     ]
    }
   ],
   "source": [
    "# Problem 2\n",
    "# List community area names and numbers with per capita income less than 11000.\n",
    "query2=\"SELECT COMMUNITY_AREA_NAME,COMMUNITY_AREA_NUMBER FROM CENSUS_DATA WHERE PER_CAPITA_INCOME<11000; \"\n",
    "result2=pd.read_sql_query(query2,con)\n",
    "print(result2)"
   ]
  },
  {
   "cell_type": "code",
   "execution_count": 18,
   "metadata": {},
   "outputs": [
    {
     "name": "stdout",
     "output_type": "stream",
     "text": [
      "Case numbers for crimes involving minors:\n",
      "  CASE_NUMBER\n",
      "0    HL266884\n",
      "1    HK238408\n"
     ]
    }
   ],
   "source": [
    "query_minors = \"\"\"\n",
    "SELECT Case_Number \n",
    "FROM CHICAGO_CRIME_DATA \n",
    "WHERE Description LIKE '%minor%';\n",
    "\"\"\"\n",
    "result_minors = pd.read_sql_query(query_minors, con)\n",
    "print(\"Case numbers for crimes involving minors:\")\n",
    "print(result_minors)"
   ]
  },
  {
   "cell_type": "code",
   "execution_count": 19,
   "metadata": {},
   "outputs": [
    {
     "name": "stdout",
     "output_type": "stream",
     "text": [
      "Kidnapping crimes involving a child:\n",
      "  CASE_NUMBER PRIMARY_TYPE               DESCRIPTION\n",
      "0    HN144152   KIDNAPPING  CHILD ABDUCTION/STRANGER\n"
     ]
    }
   ],
   "source": [
    "# Problem 4: List all kidnapping crimes involving a child\n",
    "query_kidnapping_child = \"\"\"\n",
    "SELECT Case_Number, Primary_Type, Description \n",
    "FROM CHICAGO_CRIME_DATA \n",
    "WHERE Primary_Type = 'KIDNAPPING' AND Description LIKE '%child%';\n",
    "\"\"\"\n",
    "result_kidnapping_child = pd.read_sql_query(query_kidnapping_child, con)\n",
    "print(\"Kidnapping crimes involving a child:\")\n",
    "print(result_kidnapping_child)\n"
   ]
  },
  {
   "cell_type": "code",
   "execution_count": 27,
   "metadata": {},
   "outputs": [
    {
     "name": "stdout",
     "output_type": "stream",
     "text": [
      "Kinds of crimes recorded at schools:\n",
      "             PRIMARY_TYPE\n",
      "0                 BATTERY\n",
      "1         CRIMINAL DAMAGE\n",
      "2               NARCOTICS\n",
      "3                 ASSAULT\n",
      "4       CRIMINAL TRESPASS\n",
      "5  PUBLIC PEACE VIOLATION\n"
     ]
    }
   ],
   "source": [
    "query_crimes_at_schools = \"\"\"\n",
    "SELECT DISTINCT Primary_Type \n",
    "FROM CHICAGO_CRIME_DATA \n",
    "WHERE Location_Description LIKE '%SCHOOL%';\n",
    "\"\"\"\n",
    "result_crimes_at_schools = pd.read_sql_query(query_crimes_at_schools, con)\n",
    "print(\"Kinds of crimes recorded at schools:\")\n",
    "print(result_crimes_at_schools)\n"
   ]
  },
  {
   "cell_type": "code",
   "execution_count": 28,
   "metadata": {},
   "outputs": [
    {
     "name": "stdout",
     "output_type": "stream",
     "text": [
      "Average safety score for each type of school:\n",
      "  School_Type  Average_Safety_Score\n",
      "0          ES             49.520384\n",
      "1          HS             49.623529\n",
      "2          MS             48.000000\n"
     ]
    }
   ],
   "source": [
    "# Problem 6: List the type of schools along with the average safety score for each type\n",
    "query_avg_safety_score = \"\"\"\n",
    "SELECT \"Elementary, Middle, or High School\" AS School_Type, AVG(Safety_Score) AS Average_Safety_Score\n",
    "FROM CHICAGO_PUBLIC_SCHOOLS\n",
    "GROUP BY \"Elementary, Middle, or High School\";\n",
    "\"\"\"\n",
    "result_avg_safety_score = pd.read_sql_query(query_avg_safety_score, con)\n",
    "print(\"Average safety score for each type of school:\")\n",
    "print(result_avg_safety_score)"
   ]
  },
  {
   "cell_type": "code",
   "execution_count": 29,
   "metadata": {},
   "outputs": [
    {
     "name": "stdout",
     "output_type": "stream",
     "text": [
      "Top 5 community areas with highest % of households below poverty line:\n",
      "  COMMUNITY_AREA_NAME  PERCENT_HOUSEHOLDS_BELOW_POVERTY\n",
      "0           Riverdale                              56.5\n",
      "1         Fuller Park                              51.2\n",
      "2           Englewood                              46.6\n",
      "3      North Lawndale                              43.1\n",
      "4  East Garfield Park                              42.4\n"
     ]
    }
   ],
   "source": [
    "# Problem 7: List 5 community areas with the highest percentage of households below poverty line\n",
    "query_highest_poverty = \"\"\"\n",
    "SELECT Community_Area_Name, Percent_Households_Below_Poverty \n",
    "FROM CENSUS_DATA \n",
    "ORDER BY Percent_Households_Below_Poverty DESC \n",
    "LIMIT 5;\n",
    "\"\"\"\n",
    "result_highest_poverty = pd.read_sql_query(query_highest_poverty, con)\n",
    "print(\"Top 5 community areas with highest % of households below poverty line:\")\n",
    "print(result_highest_poverty)"
   ]
  },
  {
   "cell_type": "code",
   "execution_count": 30,
   "metadata": {},
   "outputs": [
    {
     "name": "stdout",
     "output_type": "stream",
     "text": [
      "Community area number most crime prone:\n",
      "   COMMUNITY_AREA_NUMBER\n",
      "0                   25.0\n"
     ]
    }
   ],
   "source": [
    "# Problem 8: Which community area is most crime prone? Display the community area number only\n",
    "query_most_crime_prone = \"\"\"\n",
    "SELECT Community_Area_Number \n",
    "FROM CHICAGO_CRIME_DATA \n",
    "GROUP BY Community_Area_Number \n",
    "ORDER BY COUNT(*) DESC \n",
    "LIMIT 1;\n",
    "\"\"\"\n",
    "result_most_crime_prone = pd.read_sql_query(query_most_crime_prone, con)\n",
    "print(\"Community area number most crime prone:\")\n",
    "print(result_most_crime_prone)\n"
   ]
  },
  {
   "cell_type": "code",
   "execution_count": 31,
   "metadata": {},
   "outputs": [
    {
     "name": "stdout",
     "output_type": "stream",
     "text": [
      "Community area with highest hardship index:\n",
      "  COMMUNITY_AREA_NAME\n",
      "0           Riverdale\n"
     ]
    }
   ],
   "source": [
    "# Problem 9: Find the name of the community area with highest hardship index using a sub-query\n",
    "query_highest_hardship = \"\"\"\n",
    "SELECT Community_Area_Name \n",
    "FROM CENSUS_DATA \n",
    "WHERE Hardship_Index = (SELECT MAX(Hardship_Index) FROM CENSUS_DATA);\n",
    "\"\"\"\n",
    "result_highest_hardship = pd.read_sql_query(query_highest_hardship, con)\n",
    "print(\"Community area with highest hardship index:\")\n",
    "print(result_highest_hardship)\n"
   ]
  },
  {
   "cell_type": "code",
   "execution_count": 32,
   "metadata": {},
   "outputs": [
    {
     "name": "stdout",
     "output_type": "stream",
     "text": [
      "Community area with the most number of crimes:\n",
      "  COMMUNITY_AREA_NAME\n",
      "0              Austin\n"
     ]
    }
   ],
   "source": [
    "# Problem 10: Find the community area name with most number of crimes using a sub-query\n",
    "query_most_crime_area_name = \"\"\"\n",
    "SELECT Community_Area_Name \n",
    "FROM CENSUS_DATA \n",
    "WHERE Community_Area_Number = (SELECT Community_Area_Number \n",
    "                                FROM CHICAGO_CRIME_DATA \n",
    "                                GROUP BY Community_Area_Number \n",
    "                                ORDER BY COUNT(*) DESC \n",
    "                                LIMIT 1);\n",
    "\"\"\"\n",
    "result_most_crime_area_name = pd.read_sql_query(query_most_crime_area_name, con)\n",
    "print(\"Community area with the most number of crimes:\")\n",
    "print(result_most_crime_area_name)"
   ]
  },
  {
   "cell_type": "code",
   "execution_count": null,
   "metadata": {},
   "outputs": [],
   "source": []
  }
 ],
 "metadata": {
  "kernelspec": {
   "display_name": "Python 3",
   "language": "python",
   "name": "python3"
  },
  "language_info": {
   "codemirror_mode": {
    "name": "ipython",
    "version": 3
   },
   "file_extension": ".py",
   "mimetype": "text/x-python",
   "name": "python",
   "nbconvert_exporter": "python",
   "pygments_lexer": "ipython3",
   "version": "3.13.1"
  }
 },
 "nbformat": 4,
 "nbformat_minor": 2
}
